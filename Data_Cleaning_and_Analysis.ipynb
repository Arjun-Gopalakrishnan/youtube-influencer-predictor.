{
 "cells": [
  {
   "cell_type": "code",
   "execution_count": 1,
   "id": "65df6b93-3e78-40c9-951f-af58db61aefc",
   "metadata": {},
   "outputs": [],
   "source": [
    "import pandas as pd \n",
    "import numpy as np"
   ]
  },
  {
   "cell_type": "markdown",
   "id": "7d348ab5-f4e3-42be-92e7-0ef2f3a34ae3",
   "metadata": {},
   "source": [
    "#### Load the dataset "
   ]
  },
  {
   "cell_type": "code",
   "execution_count": 5,
   "id": "492fa25c-1e38-415c-b672-c622a56853a3",
   "metadata": {},
   "outputs": [
    {
     "name": "stdout",
     "output_type": "stream",
     "text": [
      "\n",
      "Successfully loaded 'malayalam_youtube_tech_data_final.csv'\n",
      "Your dataset has 16806 rows and 6 columns.\n"
     ]
    }
   ],
   "source": [
    "file_name = 'malayalam_youtube_tech_data_final.csv'\n",
    "df = pd.read_csv(file_name)\n",
    "\n",
    "print(f\"\\nSuccessfully loaded '{file_name}'\")\n",
    "print(f\"Your dataset has {len(df)} rows and {len(df.columns)} columns.\")"
   ]
  },
  {
   "cell_type": "code",
   "execution_count": 7,
   "id": "36218bb1-8b78-45c3-b52b-1830c6192215",
   "metadata": {},
   "outputs": [
    {
     "name": "stdout",
     "output_type": "stream",
     "text": [
      "                                         video_title  view_count  like_count  \\\n",
      "0  Giant Chakra | Diwali Special | ഈ ചക്രം കറങ്ങു...      267981       11664   \n",
      "1  Giant Flower Pot | Diwali Special | ആന മേശപ്പൂ...      318282       14182   \n",
      "2  ഞങ്ങൾക്ക് ഒരു മകൾ ജനിച്ചു | Our First Baby | M...     1125747       28505   \n",
      "3  Robo War | Red Vs Blue | Who Will Be The Winne...      582108       13896   \n",
      "4  Giant Avoli Fish Grill | ആവോലിമീനെ ചുട്ടത് | M...      917272       24545   \n",
      "\n",
      "   comment_count channel_name  subscriber_count  \n",
      "0            305      M4 Tech          13700000  \n",
      "1            271      M4 Tech          13700000  \n",
      "2           1274      M4 Tech          13700000  \n",
      "3            341      M4 Tech          13700000  \n",
      "4            551      M4 Tech          13700000  \n"
     ]
    }
   ],
   "source": [
    "print(df.head())"
   ]
  },
  {
   "cell_type": "markdown",
   "id": "89b0f644-c2b5-4d5a-aa90-8c0c694768dc",
   "metadata": {},
   "source": [
    "#### Inspect Data"
   ]
  },
  {
   "cell_type": "code",
   "execution_count": 10,
   "id": "a7089d88-b94d-4651-8959-a5906734805f",
   "metadata": {},
   "outputs": [
    {
     "data": {
      "text/plain": [
       "(16806, 6)"
      ]
     },
     "execution_count": 10,
     "metadata": {},
     "output_type": "execute_result"
    }
   ],
   "source": [
    "df.shape"
   ]
  },
  {
   "cell_type": "code",
   "execution_count": 12,
   "id": "7d8abe76-cfe0-4b00-8fba-3e8206f71464",
   "metadata": {},
   "outputs": [
    {
     "data": {
      "text/plain": [
       "Index(['video_title', 'view_count', 'like_count', 'comment_count',\n",
       "       'channel_name', 'subscriber_count'],\n",
       "      dtype='object')"
      ]
     },
     "execution_count": 12,
     "metadata": {},
     "output_type": "execute_result"
    }
   ],
   "source": [
    "df.columns"
   ]
  },
  {
   "cell_type": "code",
   "execution_count": 14,
   "id": "5d61968b-7ab8-4e68-89eb-0726f6b6392d",
   "metadata": {},
   "outputs": [
    {
     "name": "stdout",
     "output_type": "stream",
     "text": [
      "<class 'pandas.core.frame.DataFrame'>\n",
      "RangeIndex: 16806 entries, 0 to 16805\n",
      "Data columns (total 6 columns):\n",
      " #   Column            Non-Null Count  Dtype \n",
      "---  ------            --------------  ----- \n",
      " 0   video_title       16806 non-null  object\n",
      " 1   view_count        16806 non-null  int64 \n",
      " 2   like_count        16806 non-null  int64 \n",
      " 3   comment_count     16806 non-null  int64 \n",
      " 4   channel_name      16806 non-null  object\n",
      " 5   subscriber_count  16806 non-null  int64 \n",
      "dtypes: int64(4), object(2)\n",
      "memory usage: 787.9+ KB\n"
     ]
    }
   ],
   "source": [
    "df.info()"
   ]
  },
  {
   "cell_type": "markdown",
   "id": "54d70dd4-96fd-4bfe-9bf9-b8b9606e9fc8",
   "metadata": {},
   "source": [
    "#### Handle Missing Values "
   ]
  },
  {
   "cell_type": "code",
   "execution_count": 17,
   "id": "738197f3-ca65-4235-a843-2593d549b939",
   "metadata": {},
   "outputs": [
    {
     "name": "stdout",
     "output_type": "stream",
     "text": [
      "video_title         0\n",
      "view_count          0\n",
      "like_count          0\n",
      "comment_count       0\n",
      "channel_name        0\n",
      "subscriber_count    0\n",
      "dtype: int64\n"
     ]
    }
   ],
   "source": [
    "missing_values = df.isnull().sum()\n",
    "print(missing_values)"
   ]
  },
  {
   "cell_type": "markdown",
   "id": "e07df87c-ba49-4883-881c-717379e87ed0",
   "metadata": {},
   "source": [
    "##### Check for Duplicates"
   ]
  },
  {
   "cell_type": "code",
   "execution_count": 22,
   "id": "32757ac0-338f-446e-bde6-4f3e90f1b4cf",
   "metadata": {},
   "outputs": [
    {
     "name": "stdout",
     "output_type": "stream",
     "text": [
      "Found 0 duplicate rows.\n",
      "Result: No duplicate rows found. Your data is unique.\n"
     ]
    }
   ],
   "source": [
    "duplicate_rows = df.duplicated().sum()\n",
    "print(f\"Found {duplicate_rows} duplicate rows.\")\n",
    "\n",
    "if duplicate_rows > 0:\n",
    "\n",
    "    df = df.drop_duplicates()\n",
    "    print(f\"Removed {duplicate_rows} duplicates. Your dataset now has {len(df)} rows.\")\n",
    "else:\n",
    "    print(\"Result: No duplicate rows found. Your data is unique.\")"
   ]
  },
  {
   "cell_type": "markdown",
   "id": "228b7119-f6b7-4efc-9077-8cf3bb4096cf",
   "metadata": {},
   "source": [
    "#### Get Descriptive Statistics"
   ]
  },
  {
   "cell_type": "code",
   "execution_count": 26,
   "id": "a7b0a8e1-515b-4ad5-8303-c59baba25369",
   "metadata": {},
   "outputs": [
    {
     "name": "stdout",
     "output_type": "stream",
     "text": [
      "         view_count    like_count  comment_count  subscriber_count\n",
      "count  1.680600e+04  1.680600e+04   16806.000000      1.680600e+04\n",
      "mean   4.968143e+05  2.287032e+04     444.499107      1.826776e+06\n",
      "std    5.889492e+06  1.342751e+05    1136.138859      2.556994e+06\n",
      "min    0.000000e+00  0.000000e+00       0.000000      3.250000e+03\n",
      "25%    2.495475e+04  1.171000e+03      56.000000      1.020000e+06\n",
      "50%    6.673950e+04  3.628500e+03     183.000000      1.270000e+06\n",
      "75%    1.956605e+05  1.145325e+04     457.000000      1.820000e+06\n",
      "max    4.190372e+08  9.036811e+06   45356.000000      1.370000e+07\n"
     ]
    }
   ],
   "source": [
    "print(df.describe())"
   ]
  },
  {
   "cell_type": "markdown",
   "id": "34b96f1c-651e-4080-a545-ae45bf3e29fb",
   "metadata": {},
   "source": [
    "#### Feature Engineering"
   ]
  },
  {
   "cell_type": "code",
   "execution_count": 29,
   "id": "ca2c9a04-1465-4aa3-b524-270d13e1b824",
   "metadata": {},
   "outputs": [
    {
     "name": "stdout",
     "output_type": "stream",
     "text": [
      "Successfully created 3 new feature columns!\n",
      "\n",
      "--- Data Head (with new 'ratio' columns) ---\n",
      "                                         video_title  view_count  like_count  \\\n",
      "0  Giant Chakra | Diwali Special | ഈ ചക്രം കറങ്ങു...      267981       11664   \n",
      "1  Giant Flower Pot | Diwali Special | ആന മേശപ്പൂ...      318282       14182   \n",
      "2  ഞങ്ങൾക്ക് ഒരു മകൾ ജനിച്ചു | Our First Baby | M...     1125747       28505   \n",
      "3  Robo War | Red Vs Blue | Who Will Be The Winne...      582108       13896   \n",
      "4  Giant Avoli Fish Grill | ആവോലിമീനെ ചുട്ടത് | M...      917272       24545   \n",
      "\n",
      "   comment_count channel_name  subscriber_count  like_ratio  comment_ratio  \\\n",
      "0            305      M4 Tech          13700000    0.043525       0.001138   \n",
      "1            271      M4 Tech          13700000    0.044558       0.000851   \n",
      "2           1274      M4 Tech          13700000    0.025321       0.001132   \n",
      "3            341      M4 Tech          13700000    0.023872       0.000586   \n",
      "4            551      M4 Tech          13700000    0.026759       0.000601   \n",
      "\n",
      "   discussion_ratio  \n",
      "0         38.117647  \n",
      "1         52.139706  \n",
      "2         22.356863  \n",
      "3         40.631579  \n",
      "4         44.465580  \n"
     ]
    }
   ],
   "source": [
    "# 1. Create Like-to-View Ratio (Approval Score)\n",
    "df['like_ratio'] = df['like_count'] / (df['view_count'] + 1)\n",
    "\n",
    "# 2. Create Comment-to-View Ratio (Engagement Score)\n",
    "df['comment_ratio'] = df['comment_count'] / (df['view_count'] + 1)\n",
    "\n",
    "# 3. Create Like-to-Comment Ratio (Discussion Score)\n",
    "df['discussion_ratio'] = df['like_count'] / (df['comment_count'] + 1)\n",
    "\n",
    "print(\"Successfully created 3 new feature columns!\")\n",
    "\n",
    "# Let's look at the data again with the new columns\n",
    "print(\"\\n--- Data Head (with new 'ratio' columns) ---\")\n",
    "print(df.head())"
   ]
  },
  {
   "cell_type": "code",
   "execution_count": 31,
   "id": "6b6647da-c00f-45b3-8c8d-791e466c9235",
   "metadata": {},
   "outputs": [
    {
     "name": "stdout",
     "output_type": "stream",
     "text": [
      "                                         video_title  view_count  like_count  \\\n",
      "0  Giant Chakra | Diwali Special | ഈ ചക്രം കറങ്ങു...      267981       11664   \n",
      "1  Giant Flower Pot | Diwali Special | ആന മേശപ്പൂ...      318282       14182   \n",
      "2  ഞങ്ങൾക്ക് ഒരു മകൾ ജനിച്ചു | Our First Baby | M...     1125747       28505   \n",
      "3  Robo War | Red Vs Blue | Who Will Be The Winne...      582108       13896   \n",
      "4  Giant Avoli Fish Grill | ആവോലിമീനെ ചുട്ടത് | M...      917272       24545   \n",
      "\n",
      "   comment_count channel_name  subscriber_count  like_ratio  comment_ratio  \\\n",
      "0            305      M4 Tech          13700000    0.043525       0.001138   \n",
      "1            271      M4 Tech          13700000    0.044558       0.000851   \n",
      "2           1274      M4 Tech          13700000    0.025321       0.001132   \n",
      "3            341      M4 Tech          13700000    0.023872       0.000586   \n",
      "4            551      M4 Tech          13700000    0.026759       0.000601   \n",
      "\n",
      "   discussion_ratio  \n",
      "0         38.117647  \n",
      "1         52.139706  \n",
      "2         22.356863  \n",
      "3         40.631579  \n",
      "4         44.465580  \n"
     ]
    }
   ],
   "source": [
    "print(df.head())"
   ]
  },
  {
   "cell_type": "code",
   "execution_count": 33,
   "id": "32fa1fa5-1087-499d-b34e-8046102366f4",
   "metadata": {},
   "outputs": [
    {
     "name": "stdout",
     "output_type": "stream",
     "text": [
      "<class 'pandas.core.frame.DataFrame'>\n",
      "RangeIndex: 16806 entries, 0 to 16805\n",
      "Data columns (total 9 columns):\n",
      " #   Column            Non-Null Count  Dtype  \n",
      "---  ------            --------------  -----  \n",
      " 0   video_title       16806 non-null  object \n",
      " 1   view_count        16806 non-null  int64  \n",
      " 2   like_count        16806 non-null  int64  \n",
      " 3   comment_count     16806 non-null  int64  \n",
      " 4   channel_name      16806 non-null  object \n",
      " 5   subscriber_count  16806 non-null  int64  \n",
      " 6   like_ratio        16806 non-null  float64\n",
      " 7   comment_ratio     16806 non-null  float64\n",
      " 8   discussion_ratio  16806 non-null  float64\n",
      "dtypes: float64(3), int64(4), object(2)\n",
      "memory usage: 1.2+ MB\n"
     ]
    }
   ],
   "source": [
    "df.info()"
   ]
  },
  {
   "cell_type": "code",
   "execution_count": null,
   "id": "7adba7cc-e411-4c94-9fe2-984137e706e7",
   "metadata": {},
   "outputs": [],
   "source": []
  }
 ],
 "metadata": {
  "kernelspec": {
   "display_name": "Python [conda env:base] *",
   "language": "python",
   "name": "conda-base-py"
  },
  "language_info": {
   "codemirror_mode": {
    "name": "ipython",
    "version": 3
   },
   "file_extension": ".py",
   "mimetype": "text/x-python",
   "name": "python",
   "nbconvert_exporter": "python",
   "pygments_lexer": "ipython3",
   "version": "3.12.7"
  }
 },
 "nbformat": 4,
 "nbformat_minor": 5
}
